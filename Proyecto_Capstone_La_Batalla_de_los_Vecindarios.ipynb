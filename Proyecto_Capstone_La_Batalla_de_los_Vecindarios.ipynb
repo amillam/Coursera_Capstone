{
  "nbformat": 4,
  "nbformat_minor": 0,
  "metadata": {
    "colab": {
      "name": "Proyecto Capstone - La Batalla de los Vecindarios.ipynb",
      "provenance": [],
      "collapsed_sections": [],
      "authorship_tag": "ABX9TyO2NJACp/H5xN7WPWm2bCGp",
      "include_colab_link": true
    },
    "kernelspec": {
      "name": "python3",
      "display_name": "Python 3"
    },
    "language_info": {
      "name": "python"
    }
  },
  "cells": [
    {
      "cell_type": "markdown",
      "metadata": {
        "id": "view-in-github",
        "colab_type": "text"
      },
      "source": [
        "<a href=\"https://colab.research.google.com/github/amillam/Coursera_Capstone/blob/master/Proyecto_Capstone_La_Batalla_de_los_Vecindarios.ipynb\" target=\"_parent\"><img src=\"https://colab.research.google.com/assets/colab-badge.svg\" alt=\"Open In Colab\"/></a>"
      ]
    },
    {
      "cell_type": "markdown",
      "source": [
        "# Tareas calificadas por los compañeros: Proyecto Capstone - La Batalla de los Vecindarios (Semana 1)"
      ],
      "metadata": {
        "id": "yq_0kFeEvRXM"
      }
    },
    {
      "cell_type": "markdown",
      "source": [
        "# Introducción/Problema\n",
        "\n",
        "El actual trabajo correspondiente al entrenamiento de ciencia de datos, consistirá en realizar un ejercicio geoespacial para ubicar las mejores zonas geográficas de un restaurantes, o café de pais de Lima, Perú. Puntualmente este proyecto está orientado a responder a las personas interesadas en invertir y desarrollar un modelo de negocio de mayor anfluencia de público, basado en sus preferencias.\n",
        "Dada la complejidad del caso de estudio, buscaremos la forma de agrupar zonas que contengan la mayor cantidad de negocios del rubo de comidas u ocio (según sea el caso). Una de las principales prioridades es ubicar este tipo de comercios lo más cerca del centro de la ciudad. Buscaremos en lo posible presentar las mejores zonas de comidas las cuales servirán como propuesta para un grupo exclusivo de inversores."
      ],
      "metadata": {
        "id": "SykMGhxVvY8v"
      }
    },
    {
      "cell_type": "markdown",
      "source": [
        "# Selección de Datos"
      ],
      "metadata": {
        "id": "7rniPXXwvaAd"
      }
    },
    {
      "cell_type": "markdown",
      "source": [
        "Para el desarrollo del presente proyecto, emplearemos: Pandas, Nunpy y Geopy, este último con la cual obtendremos las coordenadas de diferentes ubicaciones. Folium para representar gráficamente la zona de vamos a segmentar.Y la API de Foursquare: para obtener la lista vanues y sus detalles alrededor de la mejor zona de ubicación geoespacial."
      ],
      "metadata": {
        "id": "qY5C5wjZvbIn"
      }
    }
  ]
}