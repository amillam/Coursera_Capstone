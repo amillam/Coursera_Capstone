{
  "nbformat": 4,
  "nbformat_minor": 0,
  "metadata": {
    "colab": {
      "name": "Proyecto Capstone - La Batalla de los Vecindarios.ipynb",
      "provenance": [],
      "collapsed_sections": [],
      "authorship_tag": "ABX9TyM1qIob/JnaEDEGttTtBXOB",
      "include_colab_link": true
    },
    "kernelspec": {
      "name": "python3",
      "display_name": "Python 3"
    },
    "language_info": {
      "name": "python"
    }
  },
  "cells": [
    {
      "cell_type": "markdown",
      "metadata": {
        "id": "view-in-github",
        "colab_type": "text"
      },
      "source": [
        "<a href=\"https://colab.research.google.com/github/amillam/Coursera_Capstone/blob/master/Proyecto_Capstone_La_Batalla_de_los_Vecindarios.ipynb\" target=\"_parent\"><img src=\"https://colab.research.google.com/assets/colab-badge.svg\" alt=\"Open In Colab\"/></a>"
      ]
    },
    {
      "cell_type": "markdown",
      "source": [
        "# Tareas calificadas por los compañeros: Proyecto Capstone - La Batalla de los Vecindarios (Semana 2)"
      ],
      "metadata": {
        "id": "yq_0kFeEvRXM"
      }
    },
    {
      "cell_type": "markdown",
      "source": [
        "# Introducción/Problema\n",
        "\n",
        "El actual trabajo correspondiente al entrenamiento de ciencia de datos, consistirá en realizar un ejercicio geoespacial para ubicar las mejores zonas geográficas de un restaurantes, o café de comida Americana en el país de la India. Puntualmente este proyecto está orientado a responder a las personas interesadas en invertir y desarrollar un modelo de negocio de mayor anfluencia de público, basado en sus preferencias.\n",
        "Dada la complejidad del caso de estudio, buscaremos la forma de agrupar zonas que contengan la mayor cantidad de negocios del rubo de comidas u ocio (según sea el caso). Una de las principales prioridades es ubicar este tipo de comercios lo más cerca del centro de la ciudad. Buscaremos en lo posible presentar las mejores zonas de comidas las cuales servirán como propuesta para un grupo exclusivo de inversores. (Actualizado)."
      ],
      "metadata": {
        "id": "SykMGhxVvY8v"
      }
    },
    {
      "cell_type": "markdown",
      "source": [
        "# Selección de Datos"
      ],
      "metadata": {
        "id": "7rniPXXwvaAd"
      }
    },
    {
      "cell_type": "markdown",
      "source": [
        "Para el desarrollo del presente proyecto, emplearemos: Pandas, Nunpy y Geopy, este último con la cual obtendremos las coordenadas de diferentes ubicaciones. Folium para representar gráficamente la zona de vamos a segmentar.Y la API de Foursquare: para obtener la lista vanues y sus detalles alrededor de la mejor zona de ubicación geoespacial."
      ],
      "metadata": {
        "id": "qY5C5wjZvbIn"
      }
    },
    {
      "cell_type": "markdown",
      "source": [
        "# Metodología"
      ],
      "metadata": {
        "id": "CgtLI_r9DH_f"
      }
    },
    {
      "cell_type": "markdown",
      "source": [
        "- Obtener las coordenadas de la ciudad objetivo.\n",
        "- Obtener la lista de barrios y sus coordenadas.\n",
        "- Exploración de los lugares más visitados en las localidades de destino.\n",
        "- Agrupación de las localidades.\n",
        "- Analizando los clusters formados."
      ],
      "metadata": {
        "id": "-PvlPBC-DNOu"
      }
    },
    {
      "cell_type": "markdown",
      "source": [
        "# Exploración"
      ],
      "metadata": {
        "id": "8MMYO1hkKT4E"
      }
    },
    {
      "cell_type": "markdown",
      "source": [
        "Exploramos con la creando de un mapa agregando marcadores para localidades, establecemos un marcador para Bangalore y marcadores de localidades.\n",
        "aplicamos el uso de la API de Foursquare para explorar las localidades y conseguir los 100 mejores recintos de cada localidad, con la conversión de la lista de lugares en un marco de datos, podemos identificar el número de sedes por cada Localidad que ofrecen comida americana. identificamos El número total de categorías únicas de 206, y  el número de localidades que tienen restaurantes americanos (12), identificando las zonas candidatas para elabrar la recomendación de inversión."
      ],
      "metadata": {
        "id": "2WLqWF7ZKXbr"
      }
    },
    {
      "cell_type": "markdown",
      "source": [
        "# Modelo KNN"
      ],
      "metadata": {
        "id": "69zqJNoBKXu8"
      }
    },
    {
      "cell_type": "markdown",
      "source": [
        "Ejecutamos el algorito Agrupamiento de K-medias sobre una marco de datos para el agrupamiento de los datos. Al ejecutar el  K-means\n",
        "obtenemos las etiquetas para las primeras 10 localidades, Aqui es donde creamos un marco de datos de blr_american, procedemos a agregar etiqueta a blr_labels y logramos una fusión de los marcos de datos blr_labels y neig_df para obtener la latitud y la longitud de cada una de las localidades. Agrupando las localidades de acuerdo a sus Etiquetas de cada Segmentacion/Clúster, procedemos a Trazar el clúster en el mapa, establecemos el marcador para Bangalore y Obtener los colores para los grupos con sus respectivos marcadores de localidades. El algoritmo  KNN, es un clasificador de aprendizaje supervisado, y se basa en establecer la cercanía de las clasificaciones o predicciones sobre la agrupación de un punto en el plano."
      ],
      "metadata": {
        "id": "NyEdcaMxKb6u"
      }
    },
    {
      "cell_type": "markdown",
      "source": [
        "# Conclusiones"
      ],
      "metadata": {
        "id": "meYq_vKXIoLJ"
      }
    },
    {
      "cell_type": "markdown",
      "source": [
        "- Del análisis anterior podemos inferir que el grupo 1 (mostrado en color rojo) casi no tiene restaurantes americanos con los números más altos del mismo en el grupo 2 (mostrado en color verde) y un número moderado de restaurantes americanos están presentes en el grupo 3 (mostrado con color azul) ubicado en la parte central de la ciudad.\n",
        "- Este análisis presenta una gran oportunidad para que los empresarios aprovechen el potencial no utilizado de las zonas exteriores de la ciudad de Bangalore mediante la apertura de restaurantes americanos.\n",
        "- También es evidente que el grupo 2 (alrededor de la parte central de la ciudad) está sufriendo de alta competencia y exceso de oferta, por lo que los desarrolladores deben evitar invertir mucho en esta área.\n",
        "- Los desarrolladores con propuestas de venta únicas que pueden destacarse de la competencia moderada en el clúster 3 pueden asumir un riesgo moderado y atraer a los clientes que ya visitan la localidad de este clúster debido al restaurante americano existente."
      ],
      "metadata": {
        "id": "v_1rZi-aIrvX"
      }
    }
  ]
}